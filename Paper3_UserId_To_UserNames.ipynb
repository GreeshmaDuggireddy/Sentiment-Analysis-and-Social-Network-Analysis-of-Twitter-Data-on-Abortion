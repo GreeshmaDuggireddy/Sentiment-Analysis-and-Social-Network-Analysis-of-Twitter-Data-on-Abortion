{
 "cells": [
  {
   "cell_type": "markdown",
   "id": "b3fda449",
   "metadata": {},
   "source": [
    "# Course: Social Media Mining\n",
    "# Paper - 3"
   ]
  },
  {
   "cell_type": "markdown",
   "id": "4e6b84c4",
   "metadata": {},
   "source": [
    "## Name: Greeshma Sai Sree Duggireddy"
   ]
  },
  {
   "cell_type": "markdown",
   "id": "1368ebea",
   "metadata": {},
   "source": [
    "## Finding the Usernames from the User_ID's"
   ]
  },
  {
   "cell_type": "code",
   "execution_count": 24,
   "id": "77378a83",
   "metadata": {},
   "outputs": [],
   "source": [
    "import tweepy\n",
    "import pandas as pd\n",
    "import tweepy\n",
    "from tweepy.api import API"
   ]
  },
  {
   "cell_type": "code",
   "execution_count": 25,
   "id": "7b68bb8d",
   "metadata": {},
   "outputs": [],
   "source": [
    "consumer_key = \"tPcgghPQArEgKqdmHtzgw40vd\"\n",
    "consumer_secret = \"emXmHr46oFc6piot6pp6e9ukKggDyBu7dj1yoVILLYwylzqnbk\"\n",
    "access_token = \"863399243209478144-dGTvo8rK9rTb6Abpp5bhP52KeZeheoK\"\n",
    "access_token_secret = \"ueuCxMdsZ29kh9Y0e0263GHqoeXguuHzpcggJMVPgElR6\""
   ]
  },
  {
   "cell_type": "code",
   "execution_count": 30,
   "id": "257e01dd",
   "metadata": {},
   "outputs": [],
   "source": [
    "auth = tweepy.OAuthHandler(consumer_key, consumer_secret)\n",
    "auth.set_access_token(access_token, access_token_secret)\n",
    "api = tweepy.API(auth, wait_on_rate_limit=True)"
   ]
  },
  {
   "cell_type": "code",
   "execution_count": 31,
   "id": "b2c5a69d",
   "metadata": {},
   "outputs": [
    {
     "data": {
      "text/plain": [
       "'onefairwage'"
      ]
     },
     "execution_count": 31,
     "metadata": {},
     "output_type": "execute_result"
    }
   ],
   "source": [
    "u = api.get_user(908076813112496129)\n",
    "u.screen_name"
   ]
  },
  {
   "cell_type": "code",
   "execution_count": 32,
   "id": "34d75000",
   "metadata": {},
   "outputs": [
    {
     "data": {
      "text/plain": [
       "'RebeccaKKatz'"
      ]
     },
     "execution_count": 32,
     "metadata": {},
     "output_type": "execute_result"
    }
   ],
   "source": [
    "u = api.get_user(202759893)\n",
    "u.screen_name"
   ]
  },
  {
   "cell_type": "code",
   "execution_count": 33,
   "id": "49ddb973",
   "metadata": {},
   "outputs": [
    {
     "data": {
      "text/plain": [
       "'McMisoprostol'"
      ]
     },
     "execution_count": 33,
     "metadata": {},
     "output_type": "execute_result"
    }
   ],
   "source": [
    "u = api.get_user(175222900)\n",
    "u.screen_name"
   ]
  },
  {
   "cell_type": "code",
   "execution_count": 34,
   "id": "47594547",
   "metadata": {},
   "outputs": [
    {
     "data": {
      "text/plain": [
       "'Koalani'"
      ]
     },
     "execution_count": 34,
     "metadata": {},
     "output_type": "execute_result"
    }
   ],
   "source": [
    "u = api.get_user(28037722)\n",
    "u.screen_name"
   ]
  },
  {
   "cell_type": "code",
   "execution_count": 35,
   "id": "73051581",
   "metadata": {},
   "outputs": [
    {
     "data": {
      "text/plain": [
       "'EdMarkey'"
      ]
     },
     "execution_count": 35,
     "metadata": {},
     "output_type": "execute_result"
    }
   ],
   "source": [
    "u = api.get_user(1129029661)\n",
    "u.screen_name"
   ]
  },
  {
   "cell_type": "code",
   "execution_count": 36,
   "id": "f574f4a7",
   "metadata": {},
   "outputs": [
    {
     "data": {
      "text/plain": [
       "'patriottakes'"
      ]
     },
     "execution_count": 36,
     "metadata": {},
     "output_type": "execute_result"
    }
   ],
   "source": [
    "u = api.get_user(978265628426432512)\n",
    "u.screen_name"
   ]
  },
  {
   "cell_type": "code",
   "execution_count": 37,
   "id": "551f88e5",
   "metadata": {},
   "outputs": [
    {
     "data": {
      "text/plain": [
       "'nikkideloach'"
      ]
     },
     "execution_count": 37,
     "metadata": {},
     "output_type": "execute_result"
    }
   ],
   "source": [
    "u = api.get_user(35540353)\n",
    "u.screen_name"
   ]
  },
  {
   "cell_type": "code",
   "execution_count": 38,
   "id": "795517f6",
   "metadata": {},
   "outputs": [
    {
     "data": {
      "text/plain": [
       "'POTUS'"
      ]
     },
     "execution_count": 38,
     "metadata": {},
     "output_type": "execute_result"
    }
   ],
   "source": [
    "u = api.get_user(1349149096909668363)\n",
    "u.screen_name"
   ]
  }
 ],
 "metadata": {
  "kernelspec": {
   "display_name": "Python 3 (ipykernel)",
   "language": "python",
   "name": "python3"
  },
  "language_info": {
   "codemirror_mode": {
    "name": "ipython",
    "version": 3
   },
   "file_extension": ".py",
   "mimetype": "text/x-python",
   "name": "python",
   "nbconvert_exporter": "python",
   "pygments_lexer": "ipython3",
   "version": "3.9.7"
  }
 },
 "nbformat": 4,
 "nbformat_minor": 5
}
